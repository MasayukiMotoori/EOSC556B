{
 "cells": [
  {
   "cell_type": "code",
   "execution_count": 1,
   "id": "initial_id",
   "metadata": {
    "ExecuteTime": {
     "end_time": "2024-04-02T16:47:37.726874200Z",
     "start_time": "2024-04-02T16:47:33.432339200Z"
    },
    "collapsed": false,
    "jupyter": {
     "outputs_hidden": false
    }
   },
   "outputs": [],
   "source": [
    "import numpy as np\n",
    "import matplotlib.pyplot as plt\n",
    "import matplotlib.colors as mcolors\n",
    "from matplotlib.ticker import LogLocator, NullFormatter\n",
    "import pandas as pd\n",
    "from scipy import optimize\n",
    "from scipy import special\n",
    "\n",
    "from scipy.linalg import lu_factor, lu_solve\n",
    "from scipy import optimize\n",
    "from scipy.constants import mu_0, epsilon_0\n",
    "from scipy.special import roots_legendre\n",
    "from scipy.interpolate import InterpolatedUnivariateSpline as iuSpline"
   ]
  },
  {
   "cell_type": "code",
   "execution_count": 2,
   "id": "b690c97f181549be",
   "metadata": {
    "ExecuteTime": {
     "end_time": "2024-04-02T16:47:38.573718200Z",
     "start_time": "2024-04-02T16:47:37.725861700Z"
    },
    "collapsed": false,
    "jupyter": {
     "outputs_hidden": false
    }
   },
   "outputs": [],
   "source": [
    "import discretize\n",
    "import empymod"
   ]
  },
  {
   "cell_type": "markdown",
   "id": "2b94c798-3fe6-461e-a98e-b2d5548e3cde",
   "metadata": {},
   "source": [
    "## Project package to import"
   ]
  },
  {
   "cell_type": "code",
   "execution_count": 3,
   "id": "1d6af155-1062-4fa9-aa39-ae48de4392fb",
   "metadata": {},
   "outputs": [],
   "source": [
    "import Project\n",
    "from Project import EMIP1D"
   ]
  },
  {
   "cell_type": "markdown",
   "id": "2001a3b1e11b4d7f",
   "metadata": {
    "tags": []
   },
   "source": [
    "## IP parameter impact on forwad modelling"
   ]
  },
  {
   "cell_type": "code",
   "execution_count": 4,
   "id": "4ef70045-328c-44f7-9523-035f2623b03e",
   "metadata": {},
   "outputs": [],
   "source": [
    "t = np.logspace(-8,-2, 121)\n",
    "tstrt = 1e-6\n",
    "tend = 1e-2\n",
    "tindex = (t >= tstrt) & (t <= tend)\n",
    "tplot = t[tindex]"
   ]
  },
  {
   "cell_type": "code",
   "execution_count": 5,
   "id": "792309ea-475a-4ffb-9d27-d5e7f190a017",
   "metadata": {
    "ExecuteTime": {
     "end_time": "2024-04-02T16:47:52.244119800Z",
     "start_time": "2024-04-02T16:47:52.215231900Z"
    }
   },
   "outputs": [],
   "source": [
    "res_air = 2e14\n",
    "res_sea = 1/3\n",
    "nlayers = 1\n",
    "btm_fix= True\n",
    "res_btm = 1\n",
    "layer_thicknesses = 50.\n",
    "seabed_depth = 1000.1\n",
    "depth = np.hstack([np.r_[0],seabed_depth+layer_thicknesses * np.arange(nlayers+1)])"
   ]
  },
  {
   "cell_type": "markdown",
   "id": "d13b1cc4-74d7-4843-b003-6feb47ece5a2",
   "metadata": {},
   "source": [
    "Use 1.75 m as distance between receiver and dipole  \n",
    "3.5m rectangular loop which is inspired by JOGMEC survey  \n",
    "K.Nakayama(2019)  \n"
   ]
  },
  {
   "cell_type": "code",
   "execution_count": 6,
   "id": "f9cf9612-0d11-4e03-92e0-959378709dd1",
   "metadata": {},
   "outputs": [],
   "source": [
    "\n",
    "model_base = {\n",
    "    'src':  [1.75,1.75,-1.75,1.75,1000, 1000],\n",
    "    'rec': [0,0,1000,0,90],\n",
    "    'depth': depth,\n",
    "    'freqtime': t ,\n",
    "    'signal': 0,\n",
    "    'mrec' : True,\n",
    "    'verb': 0\n",
    "}"
   ]
  },
  {
   "cell_type": "code",
   "execution_count": 9,
   "id": "5e21d138-7662-4aee-bdaa-d5fea08b4603",
   "metadata": {},
   "outputs": [
    {
     "data": {
      "text/plain": [
       "\u001b[1;31mInit signature:\u001b[0m\n",
       "\u001b[0mEMIP1D\u001b[0m\u001b[1;33m(\u001b[0m\u001b[1;33m\n",
       "\u001b[0m    \u001b[0mIP_model\u001b[0m\u001b[1;33m,\u001b[0m\u001b[1;33m\n",
       "\u001b[0m    \u001b[0mmodel_base\u001b[0m\u001b[1;33m,\u001b[0m\u001b[1;33m\n",
       "\u001b[0m    \u001b[0mres_air\u001b[0m\u001b[1;33m,\u001b[0m\u001b[1;33m\n",
       "\u001b[0m    \u001b[0mres_sea\u001b[0m\u001b[1;33m,\u001b[0m\u001b[1;33m\n",
       "\u001b[0m    \u001b[0mres_seafloor\u001b[0m\u001b[1;33m,\u001b[0m\u001b[1;33m\n",
       "\u001b[0m    \u001b[0mnlayers\u001b[0m\u001b[1;33m,\u001b[0m\u001b[1;33m\n",
       "\u001b[0m    \u001b[0mtindex\u001b[0m\u001b[1;33m,\u001b[0m\u001b[1;33m\n",
       "\u001b[0m    \u001b[0mresmin\u001b[0m\u001b[1;33m=\u001b[0m\u001b[1;36m1e-10\u001b[0m\u001b[1;33m,\u001b[0m\u001b[1;33m\n",
       "\u001b[0m    \u001b[0mresmax\u001b[0m\u001b[1;33m=\u001b[0m\u001b[1;36m10000000000.0\u001b[0m\u001b[1;33m,\u001b[0m\u001b[1;33m\n",
       "\u001b[0m    \u001b[0mmmin\u001b[0m\u001b[1;33m=\u001b[0m\u001b[1;36m0\u001b[0m\u001b[1;33m,\u001b[0m\u001b[1;33m\n",
       "\u001b[0m    \u001b[0mmmax\u001b[0m\u001b[1;33m=\u001b[0m\u001b[1;36m1.0\u001b[0m\u001b[1;33m,\u001b[0m\u001b[1;33m\n",
       "\u001b[0m    \u001b[0mtaumin\u001b[0m\u001b[1;33m=\u001b[0m\u001b[1;36m1e-10\u001b[0m\u001b[1;33m,\u001b[0m\u001b[1;33m\n",
       "\u001b[0m    \u001b[0mtaumax\u001b[0m\u001b[1;33m=\u001b[0m\u001b[1;36m10000000000.0\u001b[0m\u001b[1;33m,\u001b[0m\u001b[1;33m\n",
       "\u001b[0m    \u001b[0mcmin\u001b[0m\u001b[1;33m=\u001b[0m\u001b[1;36m0\u001b[0m\u001b[1;33m,\u001b[0m\u001b[1;33m\n",
       "\u001b[0m    \u001b[0mcmax\u001b[0m\u001b[1;33m=\u001b[0m\u001b[1;36m1.0\u001b[0m\u001b[1;33m,\u001b[0m\u001b[1;33m\n",
       "\u001b[0m\u001b[1;33m)\u001b[0m\u001b[1;33m\u001b[0m\u001b[1;33m\u001b[0m\u001b[0m\n",
       "\u001b[1;31mDocstring:\u001b[0m     \n",
       "Class for one dimensional inversion for about Induced Polarization from\n",
       "Time-Domain Electromagnetic about Sea Massive Sulfide Exploration.\n",
       "Forward modelling: empymod\n",
       "https://empymod.emsig.xyz/en/stable/index.html\n",
       "\n",
       "Forward modelling: SimPEG\n",
       "\n",
       "Inversion\n",
       "    Jacobian is approximated by finite difference\n",
       "    Objective function: f = 0.5*( phid + beta* phim)\n",
       "    Data part: phid = (Wd(F(m)-dobs))**2\n",
       "    Model part: phim = (Ws(mref-minit))**2\n",
       "\n",
       "Parameters\n",
       "\n",
       "IP_model: String\n",
       "    \"cole\":\n",
       "        res0: resistivity in low frequency\n",
       "        res8: resistivity in hig frequency\n",
       "        tau : time constant\n",
       "        c   : relaxation parameter\n",
       "\n",
       "    \"pelton\":\n",
       "        res : resistivity\n",
       "        m   : chargeability\n",
       "        tau : time constant\n",
       "        c   : relaxation parameter\n",
       "\n",
       "\n",
       "res_air: float\n",
       "    resistivity of air\n",
       "\n",
       "res_sea: float\n",
       "    resistivity of sea\n",
       "\n",
       "res_seafloor: float\n",
       "    resistivity of seafloor, background\n",
       "\n",
       "nlayers: integer\n",
       "    number of layers\n",
       "\n",
       "tindex: boolen\n",
       "    time index to use for forward modelling and inversion\n",
       "\n",
       "model_base: please refer empymod tutorial\n",
       "https://empymod.emsig.xyz/en/stable/api/empymod.model.dipole.html\n",
       "    'src':  transmitter configuration\n",
       "    'rec': receiver configuration\n",
       "    'depth': depth,\n",
       "    'freqtime': t as time domain\n",
       "    'signal': ssingal wave\n",
       "    'mrec' : True\n",
       "    'verb': 0\n",
       " \n",
       "\u001b[1;31mFile:\u001b[0m           c:\\users\\81805\\onedrive\\33_ubc\\06_eosc556\\project_github\\project.py\n",
       "\u001b[1;31mType:\u001b[0m           type\n",
       "\u001b[1;31mSubclasses:\u001b[0m     "
      ]
     },
     "metadata": {},
     "output_type": "display_data"
    }
   ],
   "source": [
    "EMIP1D?"
   ]
  },
  {
   "cell_type": "code",
   "execution_count": 7,
   "id": "f50a6066-a47d-41cf-9222-79da9261da56",
   "metadata": {},
   "outputs": [
    {
     "ename": "TypeError",
     "evalue": "__init__() got an unexpected keyword argument 'btm_fix'",
     "output_type": "error",
     "traceback": [
      "\u001b[1;31m---------------------------------------------------------------------------\u001b[0m",
      "\u001b[1;31mTypeError\u001b[0m                                 Traceback (most recent call last)",
      "Cell \u001b[1;32mIn[7], line 1\u001b[0m\n\u001b[1;32m----> 1\u001b[0m EMIP \u001b[38;5;241m=\u001b[39m  \u001b[43mEMIP1D\u001b[49m\u001b[43m(\u001b[49m\u001b[43mIP_model\u001b[49m\u001b[38;5;241;43m=\u001b[39;49m\u001b[38;5;124;43m\"\u001b[39;49m\u001b[38;5;124;43mpelton\u001b[39;49m\u001b[38;5;124;43m\"\u001b[39;49m\u001b[43m,\u001b[49m\u001b[43m \u001b[49m\u001b[43mmodel_base\u001b[49m\u001b[38;5;241;43m=\u001b[39;49m\u001b[43mmodel_base\u001b[49m\u001b[43m,\u001b[49m\n\u001b[0;32m      2\u001b[0m \u001b[43m    \u001b[49m\u001b[43mres_air\u001b[49m\u001b[38;5;241;43m=\u001b[39;49m\u001b[43mres_air\u001b[49m\u001b[43m,\u001b[49m\u001b[43m \u001b[49m\u001b[43mres_sea\u001b[49m\u001b[38;5;241;43m=\u001b[39;49m\u001b[43mres_sea\u001b[49m\u001b[43m,\u001b[49m\u001b[43m \u001b[49m\u001b[43mnlayers\u001b[49m\u001b[38;5;241;43m=\u001b[39;49m\u001b[43mnlayers\u001b[49m\u001b[43m,\u001b[49m\u001b[43mtindex\u001b[49m\u001b[38;5;241;43m=\u001b[39;49m\u001b[43mtindex\u001b[49m\u001b[43m,\u001b[49m\n\u001b[0;32m      3\u001b[0m \u001b[43m               \u001b[49m\u001b[43mbtm_fix\u001b[49m\u001b[38;5;241;43m=\u001b[39;49m\u001b[43mbtm_fix\u001b[49m\u001b[43m,\u001b[49m\u001b[43mres_btm\u001b[49m\u001b[38;5;241;43m=\u001b[39;49m\u001b[43mres_btm\u001b[49m\u001b[43m)\u001b[49m\n",
      "\u001b[1;31mTypeError\u001b[0m: __init__() got an unexpected keyword argument 'btm_fix'"
     ]
    }
   ],
   "source": [
    "EMIP =  EMIP1D(IP_model=\"pelton\", model_base=model_base,\n",
    "    res_air=res_air, res_sea=res_sea, nlayers=nlayers,tindex=tindex,\n",
    "               btm_fix=btm_fix,res_btm=res_btm)"
   ]
  },
  {
   "cell_type": "code",
   "execution_count": null,
   "id": "d9ecb73b-df96-4998-a132-53c3652aef0a",
   "metadata": {},
   "outputs": [],
   "source": [
    "res = 1 * np.ones(nlayers)\n",
    "mvec_r = np.log(res0)\n",
    "mvec_m = 0.0* np.ones(nlayers)\n",
    "mvec_t = np.log(1e-4)*np.ones(nlayers)\n",
    "mvec_c = 0.5*np.ones(nlayers)\n",
    "mvec_ref = np.hstack([mvec_r, mvec_m, mvec_t, mvec_c])\n",
    "data_ref = EMIP.predicted_data(mvec_ref)"
   ]
  },
  {
   "cell_type": "code",
   "execution_count": null,
   "id": "14106049-9c09-4ec1-95a2-92dfcb6c275f",
   "metadata": {},
   "outputs": [],
   "source": []
  }
 ],
 "metadata": {
  "kernelspec": {
   "display_name": "Python 3 (ipykernel)",
   "language": "python",
   "name": "python3"
  },
  "language_info": {
   "codemirror_mode": {
    "name": "ipython",
    "version": 3
   },
   "file_extension": ".py",
   "mimetype": "text/x-python",
   "name": "python",
   "nbconvert_exporter": "python",
   "pygments_lexer": "ipython3",
   "version": "3.9.18"
  }
 },
 "nbformat": 4,
 "nbformat_minor": 5
}
